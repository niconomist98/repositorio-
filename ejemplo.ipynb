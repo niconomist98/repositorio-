{
  "nbformat": 4,
  "nbformat_minor": 0,
  "metadata": {
    "colab": {
      "provenance": [],
      "authorship_tag": "ABX9TyOm88BZOCUzbid9mhU8W69T",
      "include_colab_link": true
    },
    "kernelspec": {
      "name": "python3",
      "display_name": "Python 3"
    },
    "language_info": {
      "name": "python"
    }
  },
  "cells": [
    {
      "cell_type": "markdown",
      "metadata": {
        "id": "view-in-github",
        "colab_type": "text"
      },
      "source": [
        "<a href=\"https://colab.research.google.com/github/niconomist98/repositorio-/blob/main/ejemplo.ipynb\" target=\"_parent\"><img src=\"https://colab.research.google.com/assets/colab-badge.svg\" alt=\"Open In Colab\"/></a>"
      ]
    },
    {
      "cell_type": "code",
      "execution_count": null,
      "metadata": {
        "id": "0tFJExtsMf2R"
      },
      "outputs": [],
      "source": [
        "# Codigo para declarar una variable tipo texto\n",
        "\n",
        "\"\"\"\n",
        "\n",
        "texto comentario de varias lineas\n",
        "adasd\n",
        "asd\n",
        "asda\n",
        "sd\n",
        "asd\n",
        "asd\n",
        "asd\n",
        "\n",
        "\"\"\"\n",
        "Variable = \"123123123123\""
      ]
    },
    {
      "cell_type": "code",
      "source": [
        "a = 2\n",
        "print(a)"
      ],
      "metadata": {
        "colab": {
          "base_uri": "https://localhost:8080/"
        },
        "id": "267OuadGcykf",
        "outputId": "ef2d72ab-7cdd-4d22-e416-122278839ffc"
      },
      "execution_count": null,
      "outputs": [
        {
          "output_type": "stream",
          "name": "stdout",
          "text": [
            "2\n"
          ]
        }
      ]
    },
    {
      "cell_type": "code",
      "source": [
        "suma = 5**5\n",
        "print(suma)"
      ],
      "metadata": {
        "colab": {
          "base_uri": "https://localhost:8080/"
        },
        "id": "I7-M5OvldcG5",
        "outputId": "6ea5b288-6ff7-4869-ac22-6f3c0a8d9e01"
      },
      "execution_count": null,
      "outputs": [
        {
          "output_type": "stream",
          "name": "stdout",
          "text": [
            "3125\n"
          ]
        }
      ]
    },
    {
      "cell_type": "code",
      "source": [
        "a = 5\n",
        "b = 10\n",
        "c = a+b\n",
        "print(c)"
      ],
      "metadata": {
        "colab": {
          "base_uri": "https://localhost:8080/"
        },
        "id": "Mh1zYrS1eGKr",
        "outputId": "871980ac-8636-4f58-f332-1fa4e8b08092"
      },
      "execution_count": null,
      "outputs": [
        {
          "output_type": "stream",
          "name": "stdout",
          "text": [
            "15\n"
          ]
        }
      ]
    },
    {
      "cell_type": "code",
      "source": [
        "variable = 8*9"
      ],
      "metadata": {
        "id": "AcRGN-qceyuZ"
      },
      "execution_count": null,
      "outputs": []
    },
    {
      "cell_type": "code",
      "source": [
        "print(variable)"
      ],
      "metadata": {
        "colab": {
          "base_uri": "https://localhost:8080/"
        },
        "id": "glvuQ1-ugV6D",
        "outputId": "c015db31-b278-46cd-d4d3-5f111062d85c"
      },
      "execution_count": null,
      "outputs": [
        {
          "output_type": "stream",
          "name": "stdout",
          "text": [
            "72\n"
          ]
        }
      ]
    },
    {
      "cell_type": "code",
      "source": [
        "a = 5\n",
        "type(a)"
      ],
      "metadata": {
        "colab": {
          "base_uri": "https://localhost:8080/"
        },
        "id": "xyMTcIKxgc0h",
        "outputId": "79da6bb5-b868-42ed-8224-9c80ac866b5b"
      },
      "execution_count": null,
      "outputs": [
        {
          "output_type": "execute_result",
          "data": {
            "text/plain": [
              "int"
            ]
          },
          "metadata": {},
          "execution_count": 33
        }
      ]
    },
    {
      "cell_type": "code",
      "source": [
        "b = 4.89\n",
        "type(b)"
      ],
      "metadata": {
        "colab": {
          "base_uri": "https://localhost:8080/"
        },
        "id": "mTG469BKjWHk",
        "outputId": "72934d98-7edf-4e9b-a3e3-a4c3c0a38f9c"
      },
      "execution_count": null,
      "outputs": [
        {
          "output_type": "execute_result",
          "data": {
            "text/plain": [
              "float"
            ]
          },
          "metadata": {},
          "execution_count": 34
        }
      ]
    },
    {
      "cell_type": "code",
      "source": [
        "asignatura = \"electiva 1 economia universidad del quindio\"\n",
        "type(asignatura)"
      ],
      "metadata": {
        "colab": {
          "base_uri": "https://localhost:8080/"
        },
        "id": "pR61vVBijdOZ",
        "outputId": "1ce2c581-c7f3-46c4-bdc9-d1ead823985e"
      },
      "execution_count": null,
      "outputs": [
        {
          "output_type": "execute_result",
          "data": {
            "text/plain": [
              "str"
            ]
          },
          "metadata": {},
          "execution_count": 35
        }
      ]
    },
    {
      "cell_type": "code",
      "source": [
        "mayor_de_edad = False\n",
        "type(mayor_de_edad)"
      ],
      "metadata": {
        "colab": {
          "base_uri": "https://localhost:8080/"
        },
        "id": "LZkn7qvVjkTi",
        "outputId": "5fc6d061-5df9-4dcc-cbbd-937dba4f3039"
      },
      "execution_count": null,
      "outputs": [
        {
          "output_type": "execute_result",
          "data": {
            "text/plain": [
              "bool"
            ]
          },
          "metadata": {},
          "execution_count": 40
        }
      ]
    },
    {
      "cell_type": "code",
      "source": [
        "# Estructuras de datos\n",
        "# 1.Listas\n",
        "vector = [ 1,2,3,4,5 ,\"nicolas\", True ,4.5]\n",
        "\n",
        "lista_de_listas = [ [1,2,3],[6,7,8],[8,9,7],5,6,7,8,9]\n",
        "\n",
        "print(lista_de_listas[0:3])"
      ],
      "metadata": {
        "colab": {
          "base_uri": "https://localhost:8080/"
        },
        "id": "qo3KDFT7jp9i",
        "outputId": "ab6e6426-15bc-42d9-9e5d-52516b25c6bc"
      },
      "execution_count": null,
      "outputs": [
        {
          "output_type": "stream",
          "name": "stdout",
          "text": [
            "[[1, 2, 3], [6, 7, 8], [8, 9, 7]]\n"
          ]
        }
      ]
    },
    {
      "cell_type": "code",
      "source": [
        "#sets\n",
        "set_1 = (1,2,3,4,5,6,7)\n",
        "\n"
      ],
      "metadata": {
        "id": "mXfkvhvFlZW6"
      },
      "execution_count": null,
      "outputs": []
    },
    {
      "cell_type": "code",
      "source": [
        "lista_nueva = [1 , 2, 3 ]\n",
        "lista_nueva.append(4)\n",
        "lista_nueva\n",
        "lista_nueva.append(5)\n",
        "lista_nueva"
      ],
      "metadata": {
        "colab": {
          "base_uri": "https://localhost:8080/"
        },
        "id": "oslDg0O0pkz5",
        "outputId": "32357f18-3106-4b3f-f2a3-a27d544b10ae"
      },
      "execution_count": null,
      "outputs": [
        {
          "output_type": "execute_result",
          "data": {
            "text/plain": [
              "[1, 2, 3, 4, 5]"
            ]
          },
          "metadata": {},
          "execution_count": 66
        }
      ]
    },
    {
      "cell_type": "code",
      "source": [
        "lista_final =[1,2,3,4,5]\n",
        "lista_final"
      ],
      "metadata": {
        "colab": {
          "base_uri": "https://localhost:8080/"
        },
        "id": "nzrBLqbKp4Yw",
        "outputId": "c0768699-dde3-412e-d999-6af4d2996259"
      },
      "execution_count": null,
      "outputs": [
        {
          "output_type": "execute_result",
          "data": {
            "text/plain": [
              "[1, 2, 3, 4, 5]"
            ]
          },
          "metadata": {},
          "execution_count": 72
        }
      ]
    },
    {
      "cell_type": "code",
      "source": [],
      "metadata": {
        "colab": {
          "base_uri": "https://localhost:8080/"
        },
        "id": "s9OyjJckqoUG",
        "outputId": "362b58f3-d324-4e70-f342-5bc09383b8f1"
      },
      "execution_count": null,
      "outputs": [
        {
          "output_type": "execute_result",
          "data": {
            "text/plain": [
              "[1, 2, 3, 4]"
            ]
          },
          "metadata": {},
          "execution_count": 74
        }
      ]
    },
    {
      "cell_type": "code",
      "source": [
        "#sincronizar cambios nuevos"
      ],
      "metadata": {
        "id": "GUb5usriqzF2"
      },
      "execution_count": 1,
      "outputs": []
    },
    {
      "cell_type": "code",
      "source": [],
      "metadata": {
        "id": "Rng9VcflBZwU"
      },
      "execution_count": null,
      "outputs": []
    }
  ]
}